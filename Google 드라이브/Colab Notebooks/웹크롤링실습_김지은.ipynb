{
 "cells": [
  {
   "cell_type": "code",
   "execution_count": 0,
   "metadata": {
    "colab": {
     "autoexec": {
      "startup": false,
      "wait_interval": 0
     }
    },
    "colab_type": "code",
    "id": "EDrMqzGZ4Ytf"
   },
   "outputs": [],
   "source": [
    "# 파이썬 정식 문법이 아님! 리눅스 명령어. 구글 컴퓨터에 library 설치\n",
    "!pip install html5lib"
   ]
  },
  {
   "cell_type": "code",
   "execution_count": 3,
   "metadata": {
    "colab": {
     "autoexec": {
      "startup": false,
      "wait_interval": 0
     }
    },
    "colab_type": "code",
    "id": "kyLzI8NxGldz"
   },
   "outputs": [],
   "source": [
    "# import urllib.request\n",
    "# 라이브러리 -> urllib패키지 -> request 모듈.. import는 다른 사람이 만든 것을 사용할 수 있도록\n",
    "from urllib import request\n",
    "import html5lib\n",
    "\n",
    "url = \"https://www.brunch.co.kr\"\n",
    "# with : 블럭 안에서만 사용하고, 끝나면 해제!\n",
    "with request.urlopen(url) as f:\n",
    "  # byte라는 스트림으로 온 것을 디코딩!\n",
    "  html = f.read().decode('utf-8')\n",
    "  \n",
    "dom = html5lib.parse(html)"
   ]
  },
  {
   "cell_type": "code",
   "execution_count": 11,
   "metadata": {
    "colab": {
     "autoexec": {
      "startup": false,
      "wait_interval": 0
     },
     "base_uri": "https://localhost:8080/",
     "height": 36
    },
    "colab_type": "code",
    "executionInfo": {
     "elapsed": 703,
     "status": "ok",
     "timestamp": 1531730184689,
     "user": {
      "displayName": "JiEun Kim",
      "photoUrl": "https://lh3.googleusercontent.com/a/default-user=s128",
      "userId": "110189189358304424839"
     },
     "user_tz": -540
    },
    "id": "dvRCi1tr4K-I",
    "outputId": "fa37d861-7929-411b-d251-f8205f9bf0cb"
   },
   "outputs": [
    {
     "name": "stdout",
     "output_type": "stream",
     "text": [
      "[<Element '{http://www.w3.org/1999/xhtml}link' at 0x000000192E832EA8>, <Element '{http://www.w3.org/1999/xhtml}link' at 0x000000192E832F98>, <Element '{http://www.w3.org/1999/xhtml}link' at 0x000000192E8400E8>, <Element '{http://www.w3.org/1999/xhtml}link' at 0x000000192E8401D8>, <Element '{http://www.w3.org/1999/xhtml}link' at 0x000000192E8407C8>, <Element '{http://www.w3.org/1999/xhtml}link' at 0x000000192E840908>, <Element '{http://www.w3.org/1999/xhtml}link' at 0x000000192E840A48>, <Element '{http://www.w3.org/1999/xhtml}link' at 0x000000192E840B88>]\n"
     ]
    },
    {
     "ename": "AttributeError",
     "evalue": "'xml.etree.ElementTree.Element' object has no attribute 'href'",
     "output_type": "error",
     "traceback": [
      "\u001b[1;31m---------------------------------------------------------------------------\u001b[0m",
      "\u001b[1;31mAttributeError\u001b[0m                            Traceback (most recent call last)",
      "\u001b[1;32m<ipython-input-11-5300b8df52d4>\u001b[0m in \u001b[0;36m<module>\u001b[1;34m()\u001b[0m\n\u001b[0;32m      9\u001b[0m \u001b[1;33m\u001b[0m\u001b[0m\n\u001b[0;32m     10\u001b[0m \u001b[1;32mfor\u001b[0m \u001b[0mi\u001b[0m \u001b[1;32min\u001b[0m \u001b[0mlink_data\u001b[0m \u001b[1;33m:\u001b[0m\u001b[1;33m\u001b[0m\u001b[0m\n\u001b[1;32m---> 11\u001b[1;33m     \u001b[0mprint\u001b[0m\u001b[1;33m(\u001b[0m\u001b[0mi\u001b[0m\u001b[1;33m.\u001b[0m\u001b[0mhref\u001b[0m\u001b[1;33m)\u001b[0m\u001b[1;33m\u001b[0m\u001b[0m\n\u001b[0m\u001b[0;32m     12\u001b[0m \u001b[1;33m\u001b[0m\u001b[0m\n",
      "\u001b[1;31mAttributeError\u001b[0m: 'xml.etree.ElementTree.Element' object has no attribute 'href'"
     ]
    }
   ],
   "source": [
    "# children = dom.getchildren()[0] # 연산을 1번 한 것이므로 최대한 연산을 줄여야 CPU에 이득\n",
    "# children.getchildren()[-1].text()\n",
    "head_children = dom.getchildren()[1].getchildren()\n",
    "\n",
    "link_data = []\n",
    "for i in head_children :\n",
    "    if 'link' in str(i) :\n",
    "        link_data.append(i)\n",
    "        "
   ]
  },
  {
   "cell_type": "code",
   "execution_count": 1,
   "metadata": {
    "colab": {
     "autoexec": {
      "startup": false,
      "wait_interval": 0
     },
     "base_uri": "https://localhost:8080/",
     "height": 251
    },
    "colab_type": "code",
    "executionInfo": {
     "elapsed": 1068,
     "status": "error",
     "timestamp": 1531746767832,
     "user": {
      "displayName": "JiEun Kim",
      "photoUrl": "https://lh3.googleusercontent.com/a/default-user=s128",
      "userId": "110189189358304424839"
     },
     "user_tz": -540
    },
    "id": "YU4GJiX9OT4o",
    "outputId": "0b970d8f-ca9a-4482-dded-86da49ecf894"
   },
   "outputs": [
    {
     "ename": "NameError",
     "evalue": "ignored",
     "output_type": "error",
     "traceback": [
      "\u001b[0;31m---------------------------------------------------------------------------\u001b[0m",
      "\u001b[0;31mNameError\u001b[0m                                 Traceback (most recent call last)",
      "\u001b[0;32m<ipython-input-1-5c78600ad139>\u001b[0m in \u001b[0;36m<module>\u001b[0;34m()\u001b[0m\n\u001b[1;32m      1\u001b[0m \u001b[0mresult\u001b[0m \u001b[0;34m=\u001b[0m \u001b[0;34m[\u001b[0m\u001b[0;34m]\u001b[0m\u001b[0;34m\u001b[0m\u001b[0m\n\u001b[0;32m----> 2\u001b[0;31m \u001b[0mhead_children\u001b[0m \u001b[0;34m=\u001b[0m \u001b[0mdom\u001b[0m\u001b[0;34m.\u001b[0m\u001b[0mgetchildren\u001b[0m\u001b[0;34m(\u001b[0m\u001b[0;34m)\u001b[0m\u001b[0;34m[\u001b[0m\u001b[0;36m0\u001b[0m\u001b[0;34m]\u001b[0m\u001b[0;34m\u001b[0m\u001b[0m\n\u001b[0m\u001b[1;32m      3\u001b[0m \u001b[0;32mfor\u001b[0m \u001b[0mi\u001b[0m \u001b[0;32min\u001b[0m \u001b[0mhead_children\u001b[0m\u001b[0;34m.\u001b[0m\u001b[0mgetchildren\u001b[0m\u001b[0;34m(\u001b[0m\u001b[0;34m)\u001b[0m\u001b[0;34m:\u001b[0m\u001b[0;34m\u001b[0m\u001b[0m\n\u001b[1;32m      4\u001b[0m   \u001b[0;32mif\u001b[0m \u001b[0;34m'title'\u001b[0m \u001b[0;32min\u001b[0m \u001b[0mstr\u001b[0m\u001b[0;34m(\u001b[0m\u001b[0mi\u001b[0m\u001b[0;34m)\u001b[0m\u001b[0;34m:\u001b[0m\u001b[0;34m\u001b[0m\u001b[0m\n\u001b[1;32m      5\u001b[0m     \u001b[0mresult\u001b[0m\u001b[0;34m.\u001b[0m\u001b[0mappend\u001b[0m\u001b[0;34m(\u001b[0m\u001b[0mi\u001b[0m\u001b[0;34m)\u001b[0m\u001b[0;34m\u001b[0m\u001b[0m\n",
      "\u001b[0;31mNameError\u001b[0m: name 'dom' is not defined"
     ]
    }
   ],
   "source": [
    "result = []\n",
    "head_children = dom.getchildren()[0]\n",
    "for i in head_children.getchildren():\n",
    "  if 'title' in str(i):\n",
    "    result.append(i)\n",
    "print(result.text)"
   ]
  },
  {
   "cell_type": "code",
   "execution_count": 0,
   "metadata": {
    "colab": {
     "autoexec": {
      "startup": false,
      "wait_interval": 0
     }
    },
    "colab_type": "code",
    "id": "qMuqKQ0p48fu"
   },
   "outputs": [],
   "source": [
    "target = '{http://www.w3.org/1999/xhtml}title'\n",
    "for e in head_children:\n",
    "  if e.tag == target:\n",
    "    title = e.text\n",
    "print(title)\n",
    "\n",
    "# list comprehension\n",
    "# title = [e.text for e in head_children if e.tag == taget][0]"
   ]
  },
  {
   "cell_type": "code",
   "execution_count": 0,
   "metadata": {
    "colab": {
     "autoexec": {
      "startup": false,
      "wait_interval": 0
     }
    },
    "colab_type": "code",
    "id": "ITIozZavOVk9"
   },
   "outputs": [],
   "source": [
    "_list = list(range(10))"
   ]
  },
  {
   "cell_type": "code",
   "execution_count": 3,
   "metadata": {
    "colab": {
     "autoexec": {
      "startup": false,
      "wait_interval": 0
     },
     "base_uri": "https://localhost:8080/",
     "height": 36
    },
    "colab_type": "code",
    "executionInfo": {
     "elapsed": 1056,
     "status": "ok",
     "timestamp": 1531746842064,
     "user": {
      "displayName": "JiEun Kim",
      "photoUrl": "https://lh3.googleusercontent.com/a/default-user=s128",
      "userId": "110189189358304424839"
     },
     "user_tz": -540
    },
    "id": "MiKVR-vvOecb",
    "outputId": "11162f30-7ca1-49df-a1bc-fd90addc5232"
   },
   "outputs": [
    {
     "data": {
      "text/plain": [
       "[0, 1, 2, 3, 4, 5, 6, 7, 8, 9]"
      ]
     },
     "execution_count": 3,
     "metadata": {
      "tags": []
     },
     "output_type": "execute_result"
    }
   ],
   "source": [
    "_list **"
   ]
  },
  {
   "cell_type": "code",
   "execution_count": 4,
   "metadata": {
    "colab": {
     "autoexec": {
      "startup": false,
      "wait_interval": 0
     },
     "base_uri": "https://localhost:8080/",
     "height": 36
    },
    "colab_type": "code",
    "executionInfo": {
     "elapsed": 872,
     "status": "ok",
     "timestamp": 1531746882919,
     "user": {
      "displayName": "JiEun Kim",
      "photoUrl": "https://lh3.googleusercontent.com/a/default-user=s128",
      "userId": "110189189358304424839"
     },
     "user_tz": -540
    },
    "id": "nRqZJIb1OfD2",
    "outputId": "99d9fda0-891e-4fe5-ec73-88182ac20911"
   },
   "outputs": [
    {
     "data": {
      "text/plain": [
       "[0, 1, 4, 9, 16, 25, 36, 49, 64, 81]"
      ]
     },
     "execution_count": 4,
     "metadata": {
      "tags": []
     },
     "output_type": "execute_result"
    }
   ],
   "source": [
    "[\n",
    "    i ** 2\n",
    "    for i\n",
    "    in _list\n",
    "]"
   ]
  },
  {
   "cell_type": "code",
   "execution_count": 5,
   "metadata": {
    "colab": {
     "autoexec": {
      "startup": false,
      "wait_interval": 0
     },
     "base_uri": "https://localhost:8080/",
     "height": 36
    },
    "colab_type": "code",
    "executionInfo": {
     "elapsed": 766,
     "status": "ok",
     "timestamp": 1531746989173,
     "user": {
      "displayName": "JiEun Kim",
      "photoUrl": "https://lh3.googleusercontent.com/a/default-user=s128",
      "userId": "110189189358304424839"
     },
     "user_tz": -540
    },
    "id": "e3T9p7d0OpEz",
    "outputId": "1f5c4660-dcce-400a-a6fa-f2605f85a55c"
   },
   "outputs": [
    {
     "data": {
      "text/plain": [
       "[6, 7, 8, 9]"
      ]
     },
     "execution_count": 5,
     "metadata": {
      "tags": []
     },
     "output_type": "execute_result"
    }
   ],
   "source": [
    "[\n",
    "    i *100\n",
    "    for i\n",
    "    in _list\n",
    "    if i > 5\n",
    "]"
   ]
  },
  {
   "cell_type": "code",
   "execution_count": 6,
   "metadata": {
    "colab": {
     "autoexec": {
      "startup": false,
      "wait_interval": 0
     },
     "base_uri": "https://localhost:8080/",
     "height": 36
    },
    "colab_type": "code",
    "executionInfo": {
     "elapsed": 849,
     "status": "ok",
     "timestamp": 1531747127757,
     "user": {
      "displayName": "JiEun Kim",
      "photoUrl": "https://lh3.googleusercontent.com/a/default-user=s128",
      "userId": "110189189358304424839"
     },
     "user_tz": -540
    },
    "id": "_6FPsPGVPIUJ",
    "outputId": "0eada646-520d-4f3a-a87b-02e41e535fbb"
   },
   "outputs": [
    {
     "data": {
      "text/plain": [
       "['banana', 'strawberry']"
      ]
     },
     "execution_count": 6,
     "metadata": {
      "tags": []
     },
     "output_type": "execute_result"
    }
   ],
   "source": [
    "fruits = ['banana', 'apple', 'strawberry', 'lemon', 'melon']\n",
    "[\n",
    "    i\n",
    "    for i\n",
    "    in fruits\n",
    "    if len(i) > 5\n",
    "]"
   ]
  },
  {
   "cell_type": "code",
   "execution_count": 21,
   "metadata": {
    "colab": {
     "autoexec": {
      "startup": false,
      "wait_interval": 0
     },
     "base_uri": "https://localhost:8080/",
     "height": 951
    },
    "colab_type": "code",
    "executionInfo": {
     "elapsed": 835,
     "status": "ok",
     "timestamp": 1531747626670,
     "user": {
      "displayName": "JiEun Kim",
      "photoUrl": "https://lh3.googleusercontent.com/a/default-user=s128",
      "userId": "110189189358304424839"
     },
     "user_tz": -540
    },
    "id": "DgXJla_6PDC1",
    "outputId": "d5055eb5-a62e-41d8-ba3f-600c1c59de83"
   },
   "outputs": [
    {
     "data": {
      "text/plain": [
       "[2,\n",
       " 4,\n",
       " 6,\n",
       " 8,\n",
       " 10,\n",
       " 12,\n",
       " 14,\n",
       " 16,\n",
       " 18,\n",
       " 20,\n",
       " 22,\n",
       " 24,\n",
       " 26,\n",
       " 28,\n",
       " 30,\n",
       " 32,\n",
       " 34,\n",
       " 36,\n",
       " 38,\n",
       " 40,\n",
       " 42,\n",
       " 44,\n",
       " 46,\n",
       " 48,\n",
       " 50,\n",
       " 52,\n",
       " 54,\n",
       " 56,\n",
       " 58,\n",
       " 60,\n",
       " 62,\n",
       " 64,\n",
       " 66,\n",
       " 68,\n",
       " 70,\n",
       " 72,\n",
       " 74,\n",
       " 76,\n",
       " 78,\n",
       " 80,\n",
       " 82,\n",
       " 84,\n",
       " 86,\n",
       " 88,\n",
       " 90,\n",
       " 92,\n",
       " 94,\n",
       " 96,\n",
       " 98,\n",
       " 100]"
      ]
     },
     "execution_count": 21,
     "metadata": {
      "tags": []
     },
     "output_type": "execute_result"
    }
   ],
   "source": [
    "[ i for i in range(1,101) if i%2 == 0 ]"
   ]
  },
  {
   "cell_type": "code",
   "execution_count": 0,
   "metadata": {
    "colab": {
     "autoexec": {
      "startup": false,
      "wait_interval": 0
     }
    },
    "colab_type": "code",
    "id": "LEk3NzOdPvSa"
   },
   "outputs": [],
   "source": [
    "_list = []\n",
    "for i in range(1, 101):\n",
    "  if i % 2 == 0:\n",
    "    _list.append(i)"
   ]
  },
  {
   "cell_type": "code",
   "execution_count": 0,
   "metadata": {
    "colab": {
     "autoexec": {
      "startup": false,
      "wait_interval": 0
     }
    },
    "colab_type": "code",
    "id": "Hwlgq3GwRfGt"
   },
   "outputs": [],
   "source": []
  }
 ],
 "metadata": {
  "colab": {
   "default_view": {},
   "name": "웹크롤링실습.ipynb",
   "provenance": [],
   "version": "0.3.2",
   "views": {}
  },
  "kernelspec": {
   "display_name": "Python 3",
   "language": "python",
   "name": "python3"
  },
  "language_info": {
   "codemirror_mode": {
    "name": "ipython",
    "version": 3
   },
   "file_extension": ".py",
   "mimetype": "text/x-python",
   "name": "python",
   "nbconvert_exporter": "python",
   "pygments_lexer": "ipython3",
   "version": "3.6.5"
  }
 },
 "nbformat": 4,
 "nbformat_minor": 1
}
