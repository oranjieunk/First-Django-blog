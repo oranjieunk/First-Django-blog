{
 "cells": [
  {
   "cell_type": "code",
   "execution_count": 1,
   "metadata": {},
   "outputs": [],
   "source": [
    "from urllib import request\n",
    "import pandas as pd\n",
    "import html5lib\n",
    "from random import *\n",
    "\n",
    "from bs4 import BeautifulSoup"
   ]
  },
  {
   "cell_type": "markdown",
   "metadata": {},
   "source": [
    "기본과제와 선택과제에서 사용할 함수를 정의합니다"
   ]
  },
  {
   "cell_type": "markdown",
   "metadata": {},
   "source": [
    "# 함수 정의"
   ]
  },
  {
   "cell_type": "code",
   "execution_count": 2,
   "metadata": {},
   "outputs": [],
   "source": [
    "# dictionary형의 dic 변수를 만들어서 df에 넣기 위한 자료를 임시로 삽입했습니다.\n",
    "dic={ }\n",
    "# 위의 dic 변수의 key를 list로 만들어서 접근하기 편하게 만들었습니다. \n",
    "key = ['no','category','title','votes']\n",
    "\n",
    "# html을 불러오는 부분을 함수로 정리했습니다.\n",
    "def get_html(url):\n",
    "    with request.urlopen(url) as f:\n",
    "        html = f.read().decode('utf-8')\n",
    "        bs = BeautifulSoup(html, 'html5lib')\n",
    "        return bs\n",
    "\n",
    "# url 주소에서 데이터를 가져오는 작업입니다.\n",
    "# 청원 번호(no), 분류(category), 제목(title), 참여수(votes)가 한 태그 안에 묶여있어서 함수 안에서 tag 번호를 재조합했습니다.\n",
    "def get_values(bs,tag,data1,data2):\n",
    "    tag_start = '.wrap > .board ul li .bl_wrap '\n",
    "    elements = bs.select(tag_start+tag)\n",
    "    elements = [i.text.replace(data1,\"\").replace(data2,\"\") for i in elements]\n",
    "    return elements\n",
    "\n",
    "# dictionary형에 넣기 위한 함수입니다.\n",
    "def append_dic(list,n,i):\n",
    "    new_key = key[n]\n",
    "    dic[new_key] = list[i]\n",
    "\n",
    "\n",
    "# 4개의 column들을 뽑을 때 각각 필요한 태그를 tags라는 list에 저장하고, 사용합니다.\n",
    "tags = [\".bl_no\",\".bl_category\",\".bl_subject .cb\",\".bl_agree\"]\n",
    "\n",
    "# 리스트 4개를 lists 안에 넣고, 메인 함수에서 사용합니다.\n",
    "no = []\n",
    "category = []\n",
    "subject = []\n",
    "votes = []\n",
    "lists = [no, category, subject, votes]\n",
    "\n",
    "no_c = [\"번호 \",\"답변대기\"]\n",
    "category_c = [\"분류\",\"\"]\n",
    "subject_c = [\"제목\",\"\"]\n",
    "votes_c = [\"\\n\\t\\t\\t\\t\\t\\t\\t\\t\\t\\t\\t\\t참여인원 \",\"명\\n\\t\\t\\t\\t\\t\\t\\t\\t\\t\\t\\t\"]\n",
    "all_clean = [no_c, category_c, subject_c, votes_c]"
   ]
  },
  {
   "cell_type": "markdown",
   "metadata": {},
   "source": [
    "# 기본 과제"
   ]
  },
  {
   "cell_type": "code",
   "execution_count": 112,
   "metadata": {
    "scrolled": false
   },
   "outputs": [
    {
     "name": "stdout",
     "output_type": "stream",
     "text": [
      "        no       category                                 title votes\n",
      "0   242329             기타             이혼하는데  있어서 자식의 동의가 필요합니다.     0\n",
      "1   242328            일자리    코레일  정규직 시켜준    여성 시위꾼들  퇴직시켜주 ...     1\n",
      "2   242327             미래   이재용에게 집안의 CCTV 와 제 귀에서도 썩 꺼지라 해 ...     1\n",
      "3   242326       외교/통일/국방              ☆남성.여성  모두에게  국방의  의무를 ☆     3\n",
      "4   242325             미래               우리나라 학교들 교육부랑 등등을 고소합니다     3\n",
      "5   242324             행정                            KTX해고승무원복직     0\n",
      "6   242323             기타                졸피뎀.졸피람이 사라졌으면 좋겠습니다..     1\n",
      "7   242322          안전/환경      오토바이 와 스포츠카 야간운행시 소음과 과속제한 처 ...     0\n",
      "8   242321    문화/예술/체육/언론       불법 뷰어조작 머니상 탄조작 짱구 이모든 조작들이 ...     1\n",
      "9   242320    문화/예술/체육/언론       불법 뷰어조작 머니상 탄조작 짱구 이모든 조작들이 ...     1\n",
      "10  242319             기타      ★국가공식 법률방송을 만들어 국민이 법지식을 모르는 ...     4\n",
      "11  242318             기타      이재용과 연세내과 원장(신정네거리역)이 같이 강남숙 ...     1\n",
      "12  242317             미래              창의 적이고 창조적인 사람들을 구제 해주세요     1\n",
      "13  242316       외교/통일/국방      이란 법을 어긴 이란범죄자 소년 빨리 추방하기를 청 ...     5\n",
      "14  242315          육아/교육                         위안부 사건 교과서 교육     3\n"
     ]
    }
   ],
   "source": [
    "# url를 지정하고, 기본 세팅을 합니다.\n",
    "url = \"https://www1.president.go.kr/petitions\"\n",
    "df = pd.DataFrame(columns=['no','category','title','votes'])\n",
    "bs = get_html(url)\n",
    "\n",
    "# 각 행에 필요한 데이터를 list로 가져오면서 word_c1, worc_c2에 제거할 문자들을 같이 지정하여 get_values 함수를 사용합니다.\n",
    "for i in range(4):\n",
    "    word_c1 = (all_clean[i])[0]\n",
    "    word_c2 = (all_clean[i])[1]\n",
    "    lists[i].append(get_values(bs, tags[i],word_c1,word_c2))\n",
    "\n",
    "# 4개의 column 데이터가 담긴 4개의 list에서 각각 데이터를 꺼내서 한 줄의 dictionary형인 dic을 만들고, data frame에 넣습니다.\n",
    "for i in range(0,len(no[0])):\n",
    "    for n in range(0,len(key)):\n",
    "        append_dic(lists[n][0],n,i)\n",
    "    df = df.append(dic,ignore_index=True)\n",
    "print(df)"
   ]
  },
  {
   "cell_type": "markdown",
   "metadata": {},
   "source": [
    "# 선택 과제1"
   ]
  },
  {
   "cell_type": "code",
   "execution_count": 113,
   "metadata": {
    "scrolled": true
   },
   "outputs": [
    {
     "name": "stdout",
     "output_type": "stream",
     "text": [
      "         no       category                                 title votes\n",
      "0    242329             기타             이혼하는데  있어서 자식의 동의가 필요합니다.     0\n",
      "1    242328            일자리    코레일  정규직 시켜준    여성 시위꾼들  퇴직시켜주 ...     1\n",
      "2    242327             미래   이재용에게 집안의 CCTV 와 제 귀에서도 썩 꺼지라 해 ...     1\n",
      "3    242326       외교/통일/국방              ☆남성.여성  모두에게  국방의  의무를 ☆     3\n",
      "4    242325             미래               우리나라 학교들 교육부랑 등등을 고소합니다     3\n",
      "5    242324             행정                            KTX해고승무원복직     0\n",
      "6    242323             기타                졸피뎀.졸피람이 사라졌으면 좋겠습니다..     1\n",
      "7    242322          안전/환경      오토바이 와 스포츠카 야간운행시 소음과 과속제한 처 ...     0\n",
      "8    242321    문화/예술/체육/언론       불법 뷰어조작 머니상 탄조작 짱구 이모든 조작들이 ...     1\n",
      "9    242320    문화/예술/체육/언론       불법 뷰어조작 머니상 탄조작 짱구 이모든 조작들이 ...     1\n",
      "10   242319             기타      ★국가공식 법률방송을 만들어 국민이 법지식을 모르는 ...     4\n",
      "11   242318             기타      이재용과 연세내과 원장(신정네거리역)이 같이 강남숙 ...     1\n",
      "12   242317             미래              창의 적이고 창조적인 사람들을 구제 해주세요     1\n",
      "13   242316       외교/통일/국방      이란 법을 어긴 이란범죄자 소년 빨리 추방하기를 청 ...     5\n",
      "14   242315          육아/교육                         위안부 사건 교과서 교육     3\n",
      "15   242329             기타             이혼하는데  있어서 자식의 동의가 필요합니다.     0\n",
      "16   242328            일자리    코레일  정규직 시켜준    여성 시위꾼들  퇴직시켜주 ...     1\n",
      "17   242327             미래   이재용에게 집안의 CCTV 와 제 귀에서도 썩 꺼지라 해 ...     1\n",
      "18   242326       외교/통일/국방              ☆남성.여성  모두에게  국방의  의무를 ☆     3\n",
      "19   242325             미래               우리나라 학교들 교육부랑 등등을 고소합니다     3\n",
      "20   242324             행정                            KTX해고승무원복직     0\n",
      "21   242323             기타                졸피뎀.졸피람이 사라졌으면 좋겠습니다..     1\n",
      "22   242322          안전/환경      오토바이 와 스포츠카 야간운행시 소음과 과속제한 처 ...     0\n",
      "23   242321    문화/예술/체육/언론       불법 뷰어조작 머니상 탄조작 짱구 이모든 조작들이 ...     1\n",
      "24   242320    문화/예술/체육/언론       불법 뷰어조작 머니상 탄조작 짱구 이모든 조작들이 ...     1\n",
      "25   242319             기타      ★국가공식 법률방송을 만들어 국민이 법지식을 모르는 ...     4\n",
      "26   242318             기타      이재용과 연세내과 원장(신정네거리역)이 같이 강남숙 ...     1\n",
      "27   242317             미래              창의 적이고 창조적인 사람들을 구제 해주세요     1\n",
      "28   242316       외교/통일/국방      이란 법을 어긴 이란범죄자 소년 빨리 추방하기를 청 ...     5\n",
      "29   242315          육아/교육                         위안부 사건 교과서 교육     3\n",
      "..      ...            ...                                   ...   ...\n",
      "120  242329             기타             이혼하는데  있어서 자식의 동의가 필요합니다.     0\n",
      "121  242328            일자리    코레일  정규직 시켜준    여성 시위꾼들  퇴직시켜주 ...     1\n",
      "122  242327             미래   이재용에게 집안의 CCTV 와 제 귀에서도 썩 꺼지라 해 ...     1\n",
      "123  242326       외교/통일/국방              ☆남성.여성  모두에게  국방의  의무를 ☆     3\n",
      "124  242325             미래               우리나라 학교들 교육부랑 등등을 고소합니다     3\n",
      "125  242324             행정                            KTX해고승무원복직     0\n",
      "126  242323             기타                졸피뎀.졸피람이 사라졌으면 좋겠습니다..     1\n",
      "127  242322          안전/환경      오토바이 와 스포츠카 야간운행시 소음과 과속제한 처 ...     0\n",
      "128  242321    문화/예술/체육/언론       불법 뷰어조작 머니상 탄조작 짱구 이모든 조작들이 ...     1\n",
      "129  242320    문화/예술/체육/언론       불법 뷰어조작 머니상 탄조작 짱구 이모든 조작들이 ...     1\n",
      "130  242319             기타      ★국가공식 법률방송을 만들어 국민이 법지식을 모르는 ...     4\n",
      "131  242318             기타      이재용과 연세내과 원장(신정네거리역)이 같이 강남숙 ...     1\n",
      "132  242317             미래              창의 적이고 창조적인 사람들을 구제 해주세요     1\n",
      "133  242316       외교/통일/국방      이란 법을 어긴 이란범죄자 소년 빨리 추방하기를 청 ...     5\n",
      "134  242315          육아/교육                         위안부 사건 교과서 교육     3\n",
      "135  242329             기타             이혼하는데  있어서 자식의 동의가 필요합니다.     0\n",
      "136  242328            일자리    코레일  정규직 시켜준    여성 시위꾼들  퇴직시켜주 ...     1\n",
      "137  242327             미래   이재용에게 집안의 CCTV 와 제 귀에서도 썩 꺼지라 해 ...     1\n",
      "138  242326       외교/통일/국방              ☆남성.여성  모두에게  국방의  의무를 ☆     3\n",
      "139  242325             미래               우리나라 학교들 교육부랑 등등을 고소합니다     3\n",
      "140  242324             행정                            KTX해고승무원복직     0\n",
      "141  242323             기타                졸피뎀.졸피람이 사라졌으면 좋겠습니다..     1\n",
      "142  242322          안전/환경      오토바이 와 스포츠카 야간운행시 소음과 과속제한 처 ...     0\n",
      "143  242321    문화/예술/체육/언론       불법 뷰어조작 머니상 탄조작 짱구 이모든 조작들이 ...     1\n",
      "144  242320    문화/예술/체육/언론       불법 뷰어조작 머니상 탄조작 짱구 이모든 조작들이 ...     1\n",
      "145  242319             기타      ★국가공식 법률방송을 만들어 국민이 법지식을 모르는 ...     4\n",
      "146  242318             기타      이재용과 연세내과 원장(신정네거리역)이 같이 강남숙 ...     1\n",
      "147  242317             미래              창의 적이고 창조적인 사람들을 구제 해주세요     1\n",
      "148  242316       외교/통일/국방      이란 법을 어긴 이란범죄자 소년 빨리 추방하기를 청 ...     5\n",
      "149  242315          육아/교육                         위안부 사건 교과서 교육     3\n",
      "\n",
      "[150 rows x 4 columns]\n"
     ]
    }
   ],
   "source": [
    "url = \"https://www1.president.go.kr/petitions?page=\"\n",
    "df2 = pd.DataFrame(columns=['no','category','title','votes'])\n",
    "\n",
    "# for문을 10번 돌려서 url을 10번 바꾸면서 데이터를 수집합니다. \n",
    "for i in range(10,0,-1):\n",
    "    bs = get_html(url+str(i))\n",
    "    \n",
    "    # 각 행에 필요한 데이터를 list로 가져오면서 word_c1, worc_c2에 제거할 문자들을 같이 지정하여 get_values 함수를 사용합니다.\n",
    "    for i in range(4):\n",
    "        word_c1 = (all_clean[i])[0]\n",
    "        word_c2 = (all_clean[i])[1]\n",
    "        lists[i].append(get_values(bs, tags[i],word_c1,word_c2))\n",
    "        \n",
    "    # 4개의 column 데이터가 담긴 4개의 list에서 각각 데이터를 꺼내서 한 줄의 dictionary형인 dic을 만들고, data frame에 넣습니다.\n",
    "    for i in range(0,len(no[0])):\n",
    "        for n in range(0,len(key)):\n",
    "            append_dic(lists[n][0],n,i)\n",
    "        df2 = df2.append(dic,ignore_index=True)\n",
    "print(df2)"
   ]
  },
  {
   "cell_type": "markdown",
   "metadata": {},
   "source": [
    "# 선택 과제2"
   ]
  },
  {
   "cell_type": "code",
   "execution_count": null,
   "metadata": {},
   "outputs": [],
   "source": [
    "url = \"https://www1.president.go.kr/petitions/\"\n",
    "df3 = pd.DataFrame(columns=['no', 'title','contents'])\n",
    "bs = get_html(url)\n",
    "# 현재 이루어진 청원을 모두 알아내기 위해 no 함수만 실행합니다. \n",
    "no = get_values(bs,\".bl_no\",\"번호 \",\"답변대기\")\n",
    "# 뽑아낸 수 중에서 no[0]를 최근에 등록된 청원으로 간주하여 int형으로 변환하여 랜덤으로 청원을 뽑을 때 활용합니다.\n",
    "no_all = int(no[0])\n",
    "cnt = 0\n",
    "\n",
    "# 100개를 뽑습니다.\n",
    "while cnt < 100:\n",
    "    # 예외 처리를 하여 만약 404 not found가 나오는 경우를 찾고, 해결합니다.\n",
    "    try: \n",
    "        n = randint(1, no_all)\n",
    "        # \"https://www1.president.go.kr/petitions/ + 뽑은 청원 번호\"로 url을 만들고, 접속합니다.\n",
    "        bs = get_html(url+str(n))\n",
    "    # 404 not found가 나올 때의 continue 처리하여 whilewhile문의 처음으로 돌아가서 청원 번호를 다시 뽑습니다.\n",
    "    except request.HTTPError as err:\n",
    "        if err.code == 404:\n",
    "            continue\n",
    "    title = bs.select('.petitionsView_title')\n",
    "    title = title[0].text\n",
    "    contents = bs.select('.View_write')\n",
    "    contents = contents[0].text.replace('\\n\\t\\t\\t\\t\\t\\t\\t\\t\\t\\t\\t',\"\").replace('\\n\\t\\t\\t\\t\\t\\t\\t\\t\\t\\t\\t','').replace('\\n\\t\\t\\t\\t\\t\\t\\t\\t\\t\\t','')\n",
    "    \n",
    "    # dictionary형 데이터를 한 줄 만들고, data frame에 넣습니다.\n",
    "    dic = {}\n",
    "    dic['no'] = n\n",
    "    dic['title'] = title\n",
    "    dic['contents'] = contents\n",
    "    df3 = df3.append(dic,ignore_index=True)\n",
    "    # 1개의 데이터가 만들어질 경우 count를 +1하고, 계속 반복문을 돌립니다.\n",
    "    cnt = cnt+1\n",
    "    \n",
    "print(df3)"
   ]
  },
  {
   "cell_type": "code",
   "execution_count": null,
   "metadata": {},
   "outputs": [],
   "source": []
  }
 ],
 "metadata": {
  "kernelspec": {
   "display_name": "Python 3",
   "language": "python",
   "name": "python3"
  },
  "language_info": {
   "codemirror_mode": {
    "name": "ipython",
    "version": 3
   },
   "file_extension": ".py",
   "mimetype": "text/x-python",
   "name": "python",
   "nbconvert_exporter": "python",
   "pygments_lexer": "ipython3",
   "version": "3.6.5"
  }
 },
 "nbformat": 4,
 "nbformat_minor": 2
}
