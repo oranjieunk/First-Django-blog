{
 "cells": [
  {
   "cell_type": "code",
   "execution_count": 66,
   "metadata": {},
   "outputs": [
    {
     "name": "stdout",
     "output_type": "stream",
     "text": [
      "Collecting plotnine\n",
      "  Downloading https://files.pythonhosted.org/packages/3a/68/cf39dfde4e9fd886703621e3393cd8103cb48d5ecc95b8f048ec148e53a6/plotnine-0.3.0-py2.py3-none-any.whl (3.4MB)\n",
      "Requirement already satisfied: pandas>=0.21.0 in c:\\users\\user\\anaconda\\lib\\site-packages (from plotnine) (0.23.0)\n",
      "Requirement already satisfied: matplotlib>=2.1.0 in c:\\users\\user\\anaconda\\lib\\site-packages (from plotnine) (2.2.2)\n",
      "Requirement already satisfied: patsy>=0.4.1 in c:\\users\\user\\anaconda\\lib\\site-packages (from plotnine) (0.5.0)\n",
      "Requirement already satisfied: six in c:\\users\\user\\anaconda\\lib\\site-packages (from plotnine) (1.11.0)\n",
      "Collecting mizani>=0.4.1 (from plotnine)\n",
      "  Downloading https://files.pythonhosted.org/packages/52/01/8a3b4c6e45749674a1e5241174b4b63cd6435125e124bec275f3e02c96ac/mizani-0.4.6-py2.py3-none-any.whl (65kB)\n",
      "Requirement already satisfied: scipy>=1.0.0 in c:\\users\\user\\anaconda\\lib\\site-packages (from plotnine) (1.1.0)\n",
      "Requirement already satisfied: numpy in c:\\users\\user\\anaconda\\lib\\site-packages (from plotnine) (1.14.3)\n",
      "Requirement already satisfied: statsmodels>=0.8.0 in c:\\users\\user\\anaconda\\lib\\site-packages (from plotnine) (0.9.0)\n",
      "Requirement already satisfied: python-dateutil>=2.5.0 in c:\\users\\user\\anaconda\\lib\\site-packages (from pandas>=0.21.0->plotnine) (2.7.3)\n",
      "Requirement already satisfied: pytz>=2011k in c:\\users\\user\\anaconda\\lib\\site-packages (from pandas>=0.21.0->plotnine) (2018.4)\n",
      "Requirement already satisfied: cycler>=0.10 in c:\\users\\user\\anaconda\\lib\\site-packages (from matplotlib>=2.1.0->plotnine) (0.10.0)\n",
      "Requirement already satisfied: pyparsing!=2.0.4,!=2.1.2,!=2.1.6,>=2.0.1 in c:\\users\\user\\anaconda\\lib\\site-packages (from matplotlib>=2.1.0->plotnine) (2.2.0)\n",
      "Requirement already satisfied: kiwisolver>=1.0.1 in c:\\users\\user\\anaconda\\lib\\site-packages (from matplotlib>=2.1.0->plotnine) (1.0.1)\n",
      "Collecting palettable (from mizani>=0.4.1->plotnine)\n",
      "  Downloading https://files.pythonhosted.org/packages/56/8a/84537c0354f0d1f03bf644b71bf8e0a50db9c1294181905721a5f3efbf66/palettable-3.1.1-py2.py3-none-any.whl (77kB)\n",
      "Requirement already satisfied: setuptools in c:\\users\\user\\anaconda\\lib\\site-packages (from kiwisolver>=1.0.1->matplotlib>=2.1.0->plotnine) (39.1.0)\n",
      "Installing collected packages: palettable, mizani, plotnine\n",
      "Successfully installed mizani-0.4.6 palettable-3.1.1 plotnine-0.3.0\n"
     ]
    },
    {
     "name": "stderr",
     "output_type": "stream",
     "text": [
      "distributed 1.21.8 requires msgpack, which is not installed.\n"
     ]
    }
   ],
   "source": [
    "!pip install plotnine"
   ]
  },
  {
   "cell_type": "code",
   "execution_count": 69,
   "metadata": {},
   "outputs": [
    {
     "name": "stdout",
     "output_type": "stream",
     "text": [
      "Collecting msgpack\n",
      "  Downloading https://files.pythonhosted.org/packages/04/81/c6363198f24ec1c56e5c48ce685cb532e175125adade0cdb181c8c5fea6e/msgpack-0.5.6-cp36-cp36m-win_amd64.whl (85kB)\n",
      "Installing collected packages: msgpack\n",
      "Successfully installed msgpack-0.5.6\n"
     ]
    }
   ],
   "source": [
    "!pip install msgpack"
   ]
  },
  {
   "cell_type": "markdown",
   "metadata": {
    "colab_type": "text",
    "id": "BWRXPo-_L0z0"
   },
   "source": [
    "# Pandas로 국민청원 데이터 분석하기"
   ]
  },
  {
   "cell_type": "markdown",
   "metadata": {
    "colab_type": "text",
    "id": "qkj3qVhpL0z1"
   },
   "source": [
    "## Pandas와 NumPy를 import해 옵니다."
   ]
  },
  {
   "cell_type": "code",
   "execution_count": 70,
   "metadata": {
    "colab": {
     "autoexec": {
      "startup": false,
      "wait_interval": 0
     }
    },
    "colab_type": "code",
    "id": "jx82ePtfL0z2"
   },
   "outputs": [
    {
     "name": "stdout",
     "output_type": "stream",
     "text": [
      "0.23.0\n",
      "1.14.3\n"
     ]
    }
   ],
   "source": [
    "import pandas as pd\n",
    "from pandas.api.types import CategoricalDtype\n",
    "import numpy as np\n",
    "print(pd.__version__)\n",
    "print(np.__version__)"
   ]
  },
  {
   "cell_type": "code",
   "execution_count": 12,
   "metadata": {},
   "outputs": [
    {
     "ename": "SyntaxError",
     "evalue": "invalid syntax (<ipython-input-12-9c7ad677feff>, line 1)",
     "output_type": "error",
     "traceback": [
      "\u001b[1;36m  File \u001b[1;32m\"<ipython-input-12-9c7ad677feff>\"\u001b[1;36m, line \u001b[1;32m1\u001b[0m\n\u001b[1;33m    import plotnine import *\u001b[0m\n\u001b[1;37m                         ^\u001b[0m\n\u001b[1;31mSyntaxError\u001b[0m\u001b[1;31m:\u001b[0m invalid syntax\n"
     ]
    }
   ],
   "source": [
    "import plotnine import *"
   ]
  },
  {
   "cell_type": "markdown",
   "metadata": {
    "colab_type": "text",
    "id": "ExWPF1u_L0z5"
   },
   "source": [
    "## csv 데이터를 불러 옵니다."
   ]
  },
  {
   "cell_type": "code",
   "execution_count": 2,
   "metadata": {
    "colab": {
     "autoexec": {
      "startup": false,
      "wait_interval": 0
     }
    },
    "colab_type": "code",
    "id": "Bwnpqy_NL0z5"
   },
   "outputs": [],
   "source": [
    "df = pd.read_csv('https://s3.ap-northeast-2.amazonaws.com/data10902/petition/petition.csv', parse_dates=['start', 'end'])"
   ]
  },
  {
   "cell_type": "markdown",
   "metadata": {
    "colab_type": "text",
    "id": "0ZzV5mq8L0z8"
   },
   "source": [
    "## 읽어온 데이터가 몇 행 몇 열인지 봅니다."
   ]
  },
  {
   "cell_type": "code",
   "execution_count": 3,
   "metadata": {},
   "outputs": [
    {
     "data": {
      "text/plain": [
       "(210424, 8)"
      ]
     },
     "execution_count": 3,
     "metadata": {},
     "output_type": "execute_result"
    }
   ],
   "source": [
    "df.shape"
   ]
  },
  {
   "cell_type": "markdown",
   "metadata": {
    "colab_type": "text",
    "id": "WRWVyOagL0z_"
   },
   "source": [
    "## 일부 데이터 미리 보기\n",
    "* 상단 5개의 데이터를 불러옵니다."
   ]
  },
  {
   "cell_type": "code",
   "execution_count": 8,
   "metadata": {
    "colab": {
     "autoexec": {
      "startup": false,
      "wait_interval": 0
     }
    },
    "colab_type": "code",
    "id": "mBwTlTrrL00A"
   },
   "outputs": [
    {
     "data": {
      "text/html": [
       "<div>\n",
       "<style scoped>\n",
       "    .dataframe tbody tr th:only-of-type {\n",
       "        vertical-align: middle;\n",
       "    }\n",
       "\n",
       "    .dataframe tbody tr th {\n",
       "        vertical-align: top;\n",
       "    }\n",
       "\n",
       "    .dataframe thead th {\n",
       "        text-align: right;\n",
       "    }\n",
       "</style>\n",
       "<table border=\"1\" class=\"dataframe\">\n",
       "  <thead>\n",
       "    <tr style=\"text-align: right;\">\n",
       "      <th></th>\n",
       "      <th>article_id</th>\n",
       "      <th>start</th>\n",
       "      <th>end</th>\n",
       "      <th>answered</th>\n",
       "      <th>votes</th>\n",
       "      <th>category</th>\n",
       "      <th>title</th>\n",
       "      <th>content</th>\n",
       "    </tr>\n",
       "  </thead>\n",
       "  <tbody>\n",
       "    <tr>\n",
       "      <th>0</th>\n",
       "      <td>21</td>\n",
       "      <td>2017-08-19</td>\n",
       "      <td>2017-11-17</td>\n",
       "      <td>0</td>\n",
       "      <td>9</td>\n",
       "      <td>안전/환경</td>\n",
       "      <td>스텔라 데이지호에 대한 제안입니다.</td>\n",
       "      <td>스텔라 데이지호에 대한 제안입니다.\\n3월31일 스텔라 데이지호가 침몰하고 5달째가...</td>\n",
       "    </tr>\n",
       "    <tr>\n",
       "      <th>1</th>\n",
       "      <td>22</td>\n",
       "      <td>2017-08-19</td>\n",
       "      <td>2017-11-17</td>\n",
       "      <td>0</td>\n",
       "      <td>17</td>\n",
       "      <td>기타</td>\n",
       "      <td>비리제보처를 만들어주세요.</td>\n",
       "      <td>현 정부에 국민들이 가장 원하는 것은 부패척결입니다.  우리 사회에 각종 비리들이 ...</td>\n",
       "    </tr>\n",
       "    <tr>\n",
       "      <th>2</th>\n",
       "      <td>23</td>\n",
       "      <td>2017-08-19</td>\n",
       "      <td>2017-09-03</td>\n",
       "      <td>0</td>\n",
       "      <td>0</td>\n",
       "      <td>미래</td>\n",
       "      <td>제2의 개성공단</td>\n",
       "      <td>만일 하시는 대통령님 및 각 부처 장관님,주무관님들 안녕하세요!!\\n전남 목포에서 ...</td>\n",
       "    </tr>\n",
       "  </tbody>\n",
       "</table>\n",
       "</div>"
      ],
      "text/plain": [
       "   article_id      start        end  answered  votes category  \\\n",
       "0          21 2017-08-19 2017-11-17         0      9    안전/환경   \n",
       "1          22 2017-08-19 2017-11-17         0     17       기타   \n",
       "2          23 2017-08-19 2017-09-03         0      0       미래   \n",
       "\n",
       "                 title                                            content  \n",
       "0  스텔라 데이지호에 대한 제안입니다.  스텔라 데이지호에 대한 제안입니다.\\n3월31일 스텔라 데이지호가 침몰하고 5달째가...  \n",
       "1       비리제보처를 만들어주세요.  현 정부에 국민들이 가장 원하는 것은 부패척결입니다.  우리 사회에 각종 비리들이 ...  \n",
       "2             제2의 개성공단  만일 하시는 대통령님 및 각 부처 장관님,주무관님들 안녕하세요!!\\n전남 목포에서 ...  "
      ]
     },
     "execution_count": 8,
     "metadata": {},
     "output_type": "execute_result"
    }
   ],
   "source": [
    "df.head(3)"
   ]
  },
  {
   "cell_type": "markdown",
   "metadata": {
    "colab_type": "text",
    "id": "j3Ja6ir4L00C"
   },
   "source": [
    "* 하단 3개의 데이터를 불러옵니다."
   ]
  },
  {
   "cell_type": "code",
   "execution_count": 6,
   "metadata": {
    "colab": {
     "autoexec": {
      "startup": false,
      "wait_interval": 0
     }
    },
    "colab_type": "code",
    "id": "WYC4TUL-L00D"
   },
   "outputs": [
    {
     "data": {
      "text/html": [
       "<div>\n",
       "<style scoped>\n",
       "    .dataframe tbody tr th:only-of-type {\n",
       "        vertical-align: middle;\n",
       "    }\n",
       "\n",
       "    .dataframe tbody tr th {\n",
       "        vertical-align: top;\n",
       "    }\n",
       "\n",
       "    .dataframe thead th {\n",
       "        text-align: right;\n",
       "    }\n",
       "</style>\n",
       "<table border=\"1\" class=\"dataframe\">\n",
       "  <thead>\n",
       "    <tr style=\"text-align: right;\">\n",
       "      <th></th>\n",
       "      <th>article_id</th>\n",
       "      <th>start</th>\n",
       "      <th>end</th>\n",
       "      <th>answered</th>\n",
       "      <th>votes</th>\n",
       "      <th>category</th>\n",
       "      <th>title</th>\n",
       "      <th>content</th>\n",
       "    </tr>\n",
       "  </thead>\n",
       "  <tbody>\n",
       "    <tr>\n",
       "      <th>210421</th>\n",
       "      <td>271765</td>\n",
       "      <td>2018-06-15</td>\n",
       "      <td>2018-07-15</td>\n",
       "      <td>0</td>\n",
       "      <td>3</td>\n",
       "      <td>일자리</td>\n",
       "      <td>판교 롯데마트에서</td>\n",
       "      <td>모 음식코너에서  시식을  위해  주 5일  일하는  50대  여성  알바  근로자...</td>\n",
       "    </tr>\n",
       "    <tr>\n",
       "      <th>210422</th>\n",
       "      <td>271766</td>\n",
       "      <td>2018-06-15</td>\n",
       "      <td>2018-07-15</td>\n",
       "      <td>0</td>\n",
       "      <td>12</td>\n",
       "      <td>인권/성평등</td>\n",
       "      <td>여탕에 남자아이들이 들어오자못하게 해주세요.</td>\n",
       "      <td>안녕하세요.청원자입니다.저는 보다시피 고 2입니다. 제가 어제 목욕탕(사우나)를 같...</td>\n",
       "    </tr>\n",
       "    <tr>\n",
       "      <th>210423</th>\n",
       "      <td>271767</td>\n",
       "      <td>2018-06-15</td>\n",
       "      <td>2018-07-15</td>\n",
       "      <td>0</td>\n",
       "      <td>2</td>\n",
       "      <td>미래</td>\n",
       "      <td>인천과 강원도 원주와 태백에도 중앙정부행정기관 청사를 설치해주세요</td>\n",
       "      <td>인천광역시 서구 원창동과 강원도 원주시 무실동과 강원도 정선에도 강원도 태백시 동점...</td>\n",
       "    </tr>\n",
       "  </tbody>\n",
       "</table>\n",
       "</div>"
      ],
      "text/plain": [
       "        article_id      start        end  answered  votes category  \\\n",
       "210421      271765 2018-06-15 2018-07-15         0      3      일자리   \n",
       "210422      271766 2018-06-15 2018-07-15         0     12   인권/성평등   \n",
       "210423      271767 2018-06-15 2018-07-15         0      2       미래   \n",
       "\n",
       "                                       title  \\\n",
       "210421                             판교 롯데마트에서   \n",
       "210422              여탕에 남자아이들이 들어오자못하게 해주세요.   \n",
       "210423  인천과 강원도 원주와 태백에도 중앙정부행정기관 청사를 설치해주세요   \n",
       "\n",
       "                                                  content  \n",
       "210421  모 음식코너에서  시식을  위해  주 5일  일하는  50대  여성  알바  근로자...  \n",
       "210422  안녕하세요.청원자입니다.저는 보다시피 고 2입니다. 제가 어제 목욕탕(사우나)를 같...  \n",
       "210423  인천광역시 서구 원창동과 강원도 원주시 무실동과 강원도 정선에도 강원도 태백시 동점...  "
      ]
     },
     "execution_count": 6,
     "metadata": {},
     "output_type": "execute_result"
    }
   ],
   "source": [
    "df.tail(3)"
   ]
  },
  {
   "cell_type": "markdown",
   "metadata": {
    "colab_type": "text",
    "id": "5XTcJNiYL00F"
   },
   "source": [
    "## 결측치가 있는지 확인해 봅니다."
   ]
  },
  {
   "cell_type": "code",
   "execution_count": 47,
   "metadata": {
    "colab": {
     "autoexec": {
      "startup": false,
      "wait_interval": 0
     }
    },
    "colab_type": "code",
    "id": "qG5GYQ2QL00F"
   },
   "outputs": [
    {
     "data": {
      "text/plain": [
       "article_id    0\n",
       "start         0\n",
       "end           0\n",
       "answered      0\n",
       "votes         0\n",
       "category      0\n",
       "title         0\n",
       "content       1\n",
       "dtype: int64"
      ]
     },
     "execution_count": 47,
     "metadata": {},
     "output_type": "execute_result"
    }
   ],
   "source": [
    "df.isnull().sum() #크롤링을 잘 해왔기 때문에 결측치가 없음"
   ]
  },
  {
   "cell_type": "markdown",
   "metadata": {
    "colab_type": "text",
    "id": "ukq6fBMsL00H"
   },
   "source": [
    "## 데이터 요약하기\n",
    "* 어떤 컬럼이 있고 어떤 타입인지 출력해 봅니다."
   ]
  },
  {
   "cell_type": "code",
   "execution_count": 48,
   "metadata": {
    "colab": {
     "autoexec": {
      "startup": false,
      "wait_interval": 0
     }
    },
    "colab_type": "code",
    "id": "vp82OHdLL00I"
   },
   "outputs": [
    {
     "name": "stdout",
     "output_type": "stream",
     "text": [
      "<class 'pandas.core.frame.DataFrame'>\n",
      "RangeIndex: 210424 entries, 0 to 210423\n",
      "Data columns (total 8 columns):\n",
      "article_id    210424 non-null int64\n",
      "start         210424 non-null datetime64[ns]\n",
      "end           210424 non-null datetime64[ns]\n",
      "answered      210424 non-null int64\n",
      "votes         210424 non-null int64\n",
      "category      210424 non-null object\n",
      "title         210424 non-null object\n",
      "content       210423 non-null object\n",
      "dtypes: datetime64[ns](2), int64(3), object(3)\n",
      "memory usage: 12.8+ MB\n"
     ]
    }
   ],
   "source": [
    "df.info()"
   ]
  },
  {
   "cell_type": "markdown",
   "metadata": {
    "colab_type": "text",
    "id": "fq4LLn_nL00L"
   },
   "source": [
    "* 데이터 타입만 따로 뽑아 봅니다."
   ]
  },
  {
   "cell_type": "code",
   "execution_count": 43,
   "metadata": {
    "colab": {
     "autoexec": {
      "startup": false,
      "wait_interval": 0
     }
    },
    "colab_type": "code",
    "id": "5iE7ZI25L00M"
   },
   "outputs": [
    {
     "data": {
      "text/plain": [
       "article_id             int64\n",
       "start         datetime64[ns]\n",
       "end           datetime64[ns]\n",
       "answered               int64\n",
       "votes                  int64\n",
       "category              object\n",
       "title                 object\n",
       "content               object\n",
       "dtype: object"
      ]
     },
     "execution_count": 43,
     "metadata": {},
     "output_type": "execute_result"
    }
   ],
   "source": [
    "df.dtypes"
   ]
  },
  {
   "cell_type": "markdown",
   "metadata": {
    "colab_type": "text",
    "id": "JmMAtvYiL00O"
   },
   "source": [
    "* 컬럼명만 따로 추출해 봅니다."
   ]
  },
  {
   "cell_type": "code",
   "execution_count": 44,
   "metadata": {
    "colab": {
     "autoexec": {
      "startup": false,
      "wait_interval": 0
     }
    },
    "colab_type": "code",
    "id": "IlBggubIL00Q"
   },
   "outputs": [
    {
     "data": {
      "text/plain": [
       "Index(['article_id', 'start', 'end', 'answered', 'votes', 'category', 'title',\n",
       "       'content'],\n",
       "      dtype='object')"
      ]
     },
     "execution_count": 44,
     "metadata": {},
     "output_type": "execute_result"
    }
   ],
   "source": [
    "df.columns"
   ]
  },
  {
   "cell_type": "markdown",
   "metadata": {
    "colab_type": "text",
    "id": "lI_z0KlbL00R"
   },
   "source": [
    "* 수치형 데이터에 대한 요약을 봅니다."
   ]
  },
  {
   "cell_type": "code",
   "execution_count": 45,
   "metadata": {
    "colab": {
     "autoexec": {
      "startup": false,
      "wait_interval": 0
     }
    },
    "colab_type": "code",
    "id": "64okEm2RL00R"
   },
   "outputs": [
    {
     "data": {
      "text/html": [
       "<div>\n",
       "<style scoped>\n",
       "    .dataframe tbody tr th:only-of-type {\n",
       "        vertical-align: middle;\n",
       "    }\n",
       "\n",
       "    .dataframe tbody tr th {\n",
       "        vertical-align: top;\n",
       "    }\n",
       "\n",
       "    .dataframe thead th {\n",
       "        text-align: right;\n",
       "    }\n",
       "</style>\n",
       "<table border=\"1\" class=\"dataframe\">\n",
       "  <thead>\n",
       "    <tr style=\"text-align: right;\">\n",
       "      <th></th>\n",
       "      <th>article_id</th>\n",
       "      <th>answered</th>\n",
       "      <th>votes</th>\n",
       "    </tr>\n",
       "  </thead>\n",
       "  <tbody>\n",
       "    <tr>\n",
       "      <th>count</th>\n",
       "      <td>210424.000000</td>\n",
       "      <td>210424.000000</td>\n",
       "      <td>210424.000000</td>\n",
       "    </tr>\n",
       "    <tr>\n",
       "      <th>mean</th>\n",
       "      <td>126356.643358</td>\n",
       "      <td>0.000128</td>\n",
       "      <td>146.814508</td>\n",
       "    </tr>\n",
       "    <tr>\n",
       "      <th>std</th>\n",
       "      <td>79120.580606</td>\n",
       "      <td>0.011327</td>\n",
       "      <td>4595.002647</td>\n",
       "    </tr>\n",
       "    <tr>\n",
       "      <th>min</th>\n",
       "      <td>21.000000</td>\n",
       "      <td>0.000000</td>\n",
       "      <td>0.000000</td>\n",
       "    </tr>\n",
       "    <tr>\n",
       "      <th>25%</th>\n",
       "      <td>54617.750000</td>\n",
       "      <td>0.000000</td>\n",
       "      <td>1.000000</td>\n",
       "    </tr>\n",
       "    <tr>\n",
       "      <th>50%</th>\n",
       "      <td>126121.500000</td>\n",
       "      <td>0.000000</td>\n",
       "      <td>3.000000</td>\n",
       "    </tr>\n",
       "    <tr>\n",
       "      <th>75%</th>\n",
       "      <td>192984.500000</td>\n",
       "      <td>0.000000</td>\n",
       "      <td>10.000000</td>\n",
       "    </tr>\n",
       "    <tr>\n",
       "      <th>max</th>\n",
       "      <td>271767.000000</td>\n",
       "      <td>1.000000</td>\n",
       "      <td>714875.000000</td>\n",
       "    </tr>\n",
       "  </tbody>\n",
       "</table>\n",
       "</div>"
      ],
      "text/plain": [
       "          article_id       answered          votes\n",
       "count  210424.000000  210424.000000  210424.000000\n",
       "mean   126356.643358       0.000128     146.814508\n",
       "std     79120.580606       0.011327    4595.002647\n",
       "min        21.000000       0.000000       0.000000\n",
       "25%     54617.750000       0.000000       1.000000\n",
       "50%    126121.500000       0.000000       3.000000\n",
       "75%    192984.500000       0.000000      10.000000\n",
       "max    271767.000000       1.000000  714875.000000"
      ]
     },
     "execution_count": 45,
     "metadata": {},
     "output_type": "execute_result"
    }
   ],
   "source": [
    "df.describe()"
   ]
  },
  {
   "cell_type": "markdown",
   "metadata": {
    "colab_type": "text",
    "id": "Xf_yQ-5QL00V"
   },
   "source": [
    "* 카테고리(object) 형태의 데이터에 대한 요약을 봅니다."
   ]
  },
  {
   "cell_type": "code",
   "execution_count": 54,
   "metadata": {
    "colab": {
     "autoexec": {
      "startup": false,
      "wait_interval": 0
     }
    },
    "colab_type": "code",
    "id": "l_JZRvyqL00V"
   },
   "outputs": [
    {
     "data": {
      "text/html": [
       "<div>\n",
       "<style scoped>\n",
       "    .dataframe tbody tr th:only-of-type {\n",
       "        vertical-align: middle;\n",
       "    }\n",
       "\n",
       "    .dataframe tbody tr th {\n",
       "        vertical-align: top;\n",
       "    }\n",
       "\n",
       "    .dataframe thead th {\n",
       "        text-align: right;\n",
       "    }\n",
       "</style>\n",
       "<table border=\"1\" class=\"dataframe\">\n",
       "  <thead>\n",
       "    <tr style=\"text-align: right;\">\n",
       "      <th></th>\n",
       "      <th>category</th>\n",
       "      <th>title</th>\n",
       "      <th>content</th>\n",
       "    </tr>\n",
       "  </thead>\n",
       "  <tbody>\n",
       "    <tr>\n",
       "      <th>count</th>\n",
       "      <td>210424</td>\n",
       "      <td>210424</td>\n",
       "      <td>210423</td>\n",
       "    </tr>\n",
       "    <tr>\n",
       "      <th>unique</th>\n",
       "      <td>17</td>\n",
       "      <td>175539</td>\n",
       "      <td>195348</td>\n",
       "    </tr>\n",
       "    <tr>\n",
       "      <th>top</th>\n",
       "      <td>정치개혁</td>\n",
       "      <td>이명박 출국금지</td>\n",
       "      <td>이명박 출국금지</td>\n",
       "    </tr>\n",
       "    <tr>\n",
       "      <th>freq</th>\n",
       "      <td>38835</td>\n",
       "      <td>3018</td>\n",
       "      <td>597</td>\n",
       "    </tr>\n",
       "  </tbody>\n",
       "</table>\n",
       "</div>"
      ],
      "text/plain": [
       "       category     title   content\n",
       "count    210424    210424    210423\n",
       "unique       17    175539    195348\n",
       "top        정치개혁  이명박 출국금지  이명박 출국금지\n",
       "freq      38835      3018       597"
      ]
     },
     "execution_count": 54,
     "metadata": {},
     "output_type": "execute_result"
    }
   ],
   "source": [
    "df.describe(include=[np.object])"
   ]
  },
  {
   "cell_type": "markdown",
   "metadata": {
    "colab_type": "text",
    "id": "NfibRL_2L00Z"
   },
   "source": [
    "## 답변대상 청원 보기\n",
    "20만건 이상 투표를 받으면 답변 대상 청원이 됩니다.<br/>20만건 이상 투표를 받은 청원의 갯수를 세어보세요."
   ]
  },
  {
   "cell_type": "code",
   "execution_count": 76,
   "metadata": {
    "colab": {
     "autoexec": {
      "startup": false,
      "wait_interval": 0
     }
    },
    "colab_type": "code",
    "id": "vTJeNTDCL00b"
   },
   "outputs": [
    {
     "data": {
      "text/plain": [
       "article_id                                              6384796\n",
       "answered                                                     27\n",
       "votes                                                  11878170\n",
       "category      인권/성평등미래인권/성평등안전/환경보건복지기타성장동력성장동력인권/성평등인권/성평등교...\n",
       "title         청소년이란 이유로 보호법을 악용하는 잔인무도한 청소년들이 늘어나고있습니다. 반드시 ...\n",
       "content       안녕하십니까. 청소년보호법이란 명목하에 나쁜짓을 일삼는 청소년들이 너무나 많아지고 ...\n",
       "dtype: object"
      ]
     },
     "execution_count": 76,
     "metadata": {},
     "output_type": "execute_result"
    }
   ],
   "source": [
    "final_ans = df[df.votes > 200000]\n",
    "final_ans.sum()"
   ]
  },
  {
   "cell_type": "markdown",
   "metadata": {
    "colab_type": "text",
    "id": "9PKBVxXdL00e"
   },
   "source": [
    "* 20만건 이상 투표를 받은 상위 5개의 청원을 head()를 통해 출력해 보세요."
   ]
  },
  {
   "cell_type": "code",
   "execution_count": 77,
   "metadata": {
    "colab": {
     "autoexec": {
      "startup": false,
      "wait_interval": 0
     }
    },
    "colab_type": "code",
    "id": "TD5A2pn2L00e"
   },
   "outputs": [
    {
     "data": {
      "text/html": [
       "<div>\n",
       "<style scoped>\n",
       "    .dataframe tbody tr th:only-of-type {\n",
       "        vertical-align: middle;\n",
       "    }\n",
       "\n",
       "    .dataframe tbody tr th {\n",
       "        vertical-align: top;\n",
       "    }\n",
       "\n",
       "    .dataframe thead th {\n",
       "        text-align: right;\n",
       "    }\n",
       "</style>\n",
       "<table border=\"1\" class=\"dataframe\">\n",
       "  <thead>\n",
       "    <tr style=\"text-align: right;\">\n",
       "      <th></th>\n",
       "      <th>article_id</th>\n",
       "      <th>start</th>\n",
       "      <th>end</th>\n",
       "      <th>answered</th>\n",
       "      <th>votes</th>\n",
       "      <th>category</th>\n",
       "      <th>title</th>\n",
       "      <th>content</th>\n",
       "    </tr>\n",
       "  </thead>\n",
       "  <tbody>\n",
       "    <tr>\n",
       "      <th>1752</th>\n",
       "      <td>1785</td>\n",
       "      <td>2017-09-03</td>\n",
       "      <td>2017-11-02</td>\n",
       "      <td>1</td>\n",
       "      <td>296330</td>\n",
       "      <td>인권/성평등</td>\n",
       "      <td>청소년이란 이유로 보호법을 악용하는 잔인무도한 청소년들이 늘어나고있습니다. 반드시 ...</td>\n",
       "      <td>안녕하십니까. 청소년보호법이란 명목하에 나쁜짓을 일삼는 청소년들이 너무나 많아지고 ...</td>\n",
       "    </tr>\n",
       "    <tr>\n",
       "      <th>10894</th>\n",
       "      <td>10949</td>\n",
       "      <td>2017-09-06</td>\n",
       "      <td>2017-12-05</td>\n",
       "      <td>1</td>\n",
       "      <td>615354</td>\n",
       "      <td>미래</td>\n",
       "      <td>조두순 출소반대</td>\n",
       "      <td>제발 조두순 재심다시해서 무기징역으로 해야됩니다!!!</td>\n",
       "    </tr>\n",
       "    <tr>\n",
       "      <th>18111</th>\n",
       "      <td>18278</td>\n",
       "      <td>2017-09-30</td>\n",
       "      <td>2017-10-30</td>\n",
       "      <td>1</td>\n",
       "      <td>235372</td>\n",
       "      <td>인권/성평등</td>\n",
       "      <td>낙태죄 폐지와 자연유산 유도약(미프진) 합법화 및 도입을 부탁드립니다.</td>\n",
       "      <td>안녕하세요. 존경하는 대통령님 의원님\\n낙태죄 폐지를 청원합니다.\\n현재 대한민국은...</td>\n",
       "    </tr>\n",
       "    <tr>\n",
       "      <th>25032</th>\n",
       "      <td>26024</td>\n",
       "      <td>2017-11-04</td>\n",
       "      <td>2017-12-04</td>\n",
       "      <td>1</td>\n",
       "      <td>216774</td>\n",
       "      <td>안전/환경</td>\n",
       "      <td>'주취감형(술을 먹으면 형벌 감형)' 폐지를 건의(청원)합니다.</td>\n",
       "      <td>'주취감형'이란, 술을 먹고 범행을 저지를 때, 심신미약 (이성이 없고 우발적)이라...</td>\n",
       "    </tr>\n",
       "    <tr>\n",
       "      <th>43992</th>\n",
       "      <td>45581</td>\n",
       "      <td>2017-11-17</td>\n",
       "      <td>2017-12-17</td>\n",
       "      <td>1</td>\n",
       "      <td>281985</td>\n",
       "      <td>보건복지</td>\n",
       "      <td>권역외상센터 (이국종 교수님) 추가적, 제도적, 환경적, 인력 지원</td>\n",
       "      <td>청원사항)\\n중증외상분야의 추가적, 제도적, 환경적, 인력 지원 방안마련\\n현 의료...</td>\n",
       "    </tr>\n",
       "  </tbody>\n",
       "</table>\n",
       "</div>"
      ],
      "text/plain": [
       "       article_id      start        end  answered   votes category  \\\n",
       "1752         1785 2017-09-03 2017-11-02         1  296330   인권/성평등   \n",
       "10894       10949 2017-09-06 2017-12-05         1  615354       미래   \n",
       "18111       18278 2017-09-30 2017-10-30         1  235372   인권/성평등   \n",
       "25032       26024 2017-11-04 2017-12-04         1  216774    안전/환경   \n",
       "43992       45581 2017-11-17 2017-12-17         1  281985     보건복지   \n",
       "\n",
       "                                                   title  \\\n",
       "1752   청소년이란 이유로 보호법을 악용하는 잔인무도한 청소년들이 늘어나고있습니다. 반드시 ...   \n",
       "10894                                           조두순 출소반대   \n",
       "18111            낙태죄 폐지와 자연유산 유도약(미프진) 합법화 및 도입을 부탁드립니다.   \n",
       "25032                '주취감형(술을 먹으면 형벌 감형)' 폐지를 건의(청원)합니다.   \n",
       "43992              권역외상센터 (이국종 교수님) 추가적, 제도적, 환경적, 인력 지원   \n",
       "\n",
       "                                                 content  \n",
       "1752   안녕하십니까. 청소년보호법이란 명목하에 나쁜짓을 일삼는 청소년들이 너무나 많아지고 ...  \n",
       "10894                      제발 조두순 재심다시해서 무기징역으로 해야됩니다!!!  \n",
       "18111  안녕하세요. 존경하는 대통령님 의원님\\n낙태죄 폐지를 청원합니다.\\n현재 대한민국은...  \n",
       "25032  '주취감형'이란, 술을 먹고 범행을 저지를 때, 심신미약 (이성이 없고 우발적)이라...  \n",
       "43992  청원사항)\\n중증외상분야의 추가적, 제도적, 환경적, 인력 지원 방안마련\\n현 의료...  "
      ]
     },
     "execution_count": 77,
     "metadata": {},
     "output_type": "execute_result"
    }
   ],
   "source": [
    "final_ans.head()"
   ]
  },
  {
   "cell_type": "markdown",
   "metadata": {
    "colab_type": "text",
    "id": "A7NRKs9UL00h"
   },
   "source": [
    "* 20만건 이상 투표를 받은 청원을 별도의 컬럼을 만들어 줍니다. 컬럼 이름은 `answer`로 합니다."
   ]
  },
  {
   "cell_type": "code",
   "execution_count": 0,
   "metadata": {
    "colab": {
     "autoexec": {
      "startup": false,
      "wait_interval": 0
     }
    },
    "colab_type": "code",
    "id": "NxP_sVmvL00h"
   },
   "outputs": [],
   "source": []
  },
  {
   "cell_type": "markdown",
   "metadata": {
    "colab_type": "text",
    "id": "JJcV4eKUL00j"
   },
   "source": [
    "* df 데이터프레임의 크기를 다시 찍어 보세요. 컬럼 하나가 늘었나요?"
   ]
  },
  {
   "cell_type": "code",
   "execution_count": 0,
   "metadata": {
    "colab": {
     "autoexec": {
      "startup": false,
      "wait_interval": 0
     }
    },
    "colab_type": "code",
    "id": "-WfrNCqBL00k"
   },
   "outputs": [],
   "source": []
  },
  {
   "cell_type": "markdown",
   "metadata": {
    "colab_type": "text",
    "id": "7qt5lHq9L00m"
   },
   "source": [
    "* 새로 생성해 준 answer의 타입은 boolean 타입입니다. int로 변경해 보세요."
   ]
  },
  {
   "cell_type": "code",
   "execution_count": 0,
   "metadata": {
    "colab": {
     "autoexec": {
      "startup": false,
      "wait_interval": 0
     }
    },
    "colab_type": "code",
    "id": "qh2gb0tAL00m"
   },
   "outputs": [],
   "source": []
  },
  {
   "cell_type": "markdown",
   "metadata": {
    "colab_type": "text",
    "id": "JO4WHBlDL00o"
   },
   "source": [
    "* 답변대상 청원중 아직 답변되지 않은 청원의 수를 계산해 보세요."
   ]
  },
  {
   "cell_type": "code",
   "execution_count": 0,
   "metadata": {
    "colab": {
     "autoexec": {
      "startup": false,
      "wait_interval": 0
     }
    },
    "colab_type": "code",
    "id": "_oGgGs37L00o"
   },
   "outputs": [],
   "source": []
  },
  {
   "cell_type": "markdown",
   "metadata": {
    "colab_type": "text",
    "id": "6FwoYTkIL00r"
   },
   "source": [
    "## 답변 대상 청원 중 투표를 가장 많이 받은 것"
   ]
  },
  {
   "cell_type": "code",
   "execution_count": 0,
   "metadata": {
    "colab": {
     "autoexec": {
      "startup": false,
      "wait_interval": 0
     }
    },
    "colab_type": "code",
    "id": "jLDyeFaUL00r"
   },
   "outputs": [],
   "source": []
  },
  {
   "cell_type": "markdown",
   "metadata": {
    "colab_type": "text",
    "id": "z57ktosBL00t"
   },
   "source": [
    "## 어느 분야의 청원이 가장 많이 들어왔는지?\n",
    "pandas의 value_counts로 특정 컬럼의 데이터를 그룹화하여 카운된 숫자를 볼 수 있습니다.<br/>\n",
    "어느 분야의 청원이 가장 많이 들어왔는지 찾아보세요."
   ]
  },
  {
   "cell_type": "code",
   "execution_count": 0,
   "metadata": {
    "colab": {
     "autoexec": {
      "startup": false,
      "wait_interval": 0
     }
    },
    "colab_type": "code",
    "id": "KdvvIImmL00t"
   },
   "outputs": [],
   "source": []
  },
  {
   "cell_type": "markdown",
   "metadata": {
    "colab_type": "text",
    "id": "-xipmEyOL00v"
   },
   "source": [
    "## 각 청원이 얼마 동안 집계되었는지?\n",
    "청원이 가장 많이 들어 온 날은 언제인지 정렬해 보세요."
   ]
  },
  {
   "cell_type": "code",
   "execution_count": 0,
   "metadata": {
    "colab": {
     "autoexec": {
      "startup": false,
      "wait_interval": 0
     }
    },
    "colab_type": "code",
    "id": "g_5dd7ooL00v"
   },
   "outputs": [],
   "source": []
  },
  {
   "cell_type": "markdown",
   "metadata": {
    "colab_type": "text",
    "id": "9G3Q0qZDL00x"
   },
   "source": [
    "## 피봇 테이블로 투표를 가장 많이 받은 분야를 찾아보세요."
   ]
  },
  {
   "cell_type": "code",
   "execution_count": 0,
   "metadata": {
    "colab": {
     "autoexec": {
      "startup": false,
      "wait_interval": 0
     }
    },
    "colab_type": "code",
    "id": "Fud7guAQL00x"
   },
   "outputs": [],
   "source": []
  },
  {
   "cell_type": "markdown",
   "metadata": {
    "colab_type": "text",
    "id": "z1CEW55SL001"
   },
   "source": [
    "## 투표를 가장 많이 받은 날은 언제일까요?"
   ]
  },
  {
   "cell_type": "code",
   "execution_count": 0,
   "metadata": {
    "colab": {
     "autoexec": {
      "startup": false,
      "wait_interval": 0
     }
    },
    "colab_type": "code",
    "id": "bN1YXz3kL003"
   },
   "outputs": [],
   "source": []
  },
  {
   "cell_type": "markdown",
   "metadata": {
    "colab_type": "text",
    "id": "DPUJwxuDL005"
   },
   "source": [
    "## 청원을 많이 받은 날 VS 투표를 많이 받은 날에 대해 각각 상위 5개 목록을 추출해 봅니다. \n",
    "이때, title, content는 안 나와도 됩니다."
   ]
  },
  {
   "cell_type": "code",
   "execution_count": 0,
   "metadata": {
    "colab": {
     "autoexec": {
      "startup": false,
      "wait_interval": 0
     }
    },
    "colab_type": "code",
    "id": "RzhOZsssL007"
   },
   "outputs": [],
   "source": []
  },
  {
   "cell_type": "code",
   "execution_count": 0,
   "metadata": {
    "colab": {
     "autoexec": {
      "startup": false,
      "wait_interval": 0
     }
    },
    "colab_type": "code",
    "id": "1YMHJU_1L00-"
   },
   "outputs": [],
   "source": []
  },
  {
   "cell_type": "markdown",
   "metadata": {
    "colab_type": "text",
    "id": "y95HHJRKL01B"
   },
   "source": [
    "## 시계열 데이터 보기\n",
    "* 월별 청원수를 집계해 보세요."
   ]
  },
  {
   "cell_type": "markdown",
   "metadata": {
    "colab_type": "text",
    "id": "Xa0tMfonL01B"
   },
   "source": [
    "* 청원이 가장 많이 들어온 달은 언제인가요?\n",
    "* 요일별 청원 수는 어떻게 되나요?"
   ]
  },
  {
   "cell_type": "code",
   "execution_count": 0,
   "metadata": {
    "colab": {
     "autoexec": {
      "startup": false,
      "wait_interval": 0
     }
    },
    "colab_type": "code",
    "id": "Dlarj6qsL01D"
   },
   "outputs": [],
   "source": [
    "특정 단어가 들어가는 청원을 찾아보세요."
   ]
  },
  {
   "cell_type": "code",
   "execution_count": 0,
   "metadata": {
    "colab": {
     "autoexec": {
      "startup": false,
      "wait_interval": 0
     }
    },
    "colab_type": "code",
    "id": "fg0tsYCvL01E"
   },
   "outputs": [],
   "source": [
    "crypto = df[( df.title.str.find('가상화폐') != -1 ) | ( df.content.str.find('가상화폐') != -1  )]\n",
    "crypto.shape"
   ]
  },
  {
   "cell_type": "code",
   "execution_count": 37,
   "metadata": {
    "colab": {
     "autoexec": {
      "startup": false,
      "wait_interval": 0
     }
    },
    "colab_type": "code",
    "id": "Sb430TNGL01I"
   },
   "outputs": [
    {
     "name": "stdout",
     "output_type": "stream",
     "text": [
      "(3, 8)\n"
     ]
    },
    {
     "data": {
      "text/html": [
       "<div>\n",
       "<style scoped>\n",
       "    .dataframe tbody tr th:only-of-type {\n",
       "        vertical-align: middle;\n",
       "    }\n",
       "\n",
       "    .dataframe tbody tr th {\n",
       "        vertical-align: top;\n",
       "    }\n",
       "\n",
       "    .dataframe thead th {\n",
       "        text-align: right;\n",
       "    }\n",
       "</style>\n",
       "<table border=\"1\" class=\"dataframe\">\n",
       "  <thead>\n",
       "    <tr style=\"text-align: right;\">\n",
       "      <th></th>\n",
       "      <th>article_id</th>\n",
       "      <th>start</th>\n",
       "      <th>end</th>\n",
       "      <th>answered</th>\n",
       "      <th>votes</th>\n",
       "      <th>category</th>\n",
       "      <th>title</th>\n",
       "      <th>content</th>\n",
       "    </tr>\n",
       "  </thead>\n",
       "  <tbody>\n",
       "    <tr>\n",
       "      <th>163514</th>\n",
       "      <td>202168</td>\n",
       "      <td>2018-04-16</td>\n",
       "      <td>2018-05-16</td>\n",
       "      <td>0</td>\n",
       "      <td>188</td>\n",
       "      <td>미래</td>\n",
       "      <td>티비 조선 종편 허가 취소 요청 // 한 곳으로 모아야 힘이됩니다. --&gt;&gt; htt...</td>\n",
       "      <td>티비 조선 종편 허가 취소 요청 // 한 곳으로 모아야 힘이됩니다.  현재 10만명...</td>\n",
       "    </tr>\n",
       "    <tr>\n",
       "      <th>168833</th>\n",
       "      <td>209243</td>\n",
       "      <td>2018-04-22</td>\n",
       "      <td>2018-05-22</td>\n",
       "      <td>0</td>\n",
       "      <td>16</td>\n",
       "      <td>정치개혁</td>\n",
       "      <td>티비 조선을 지켜 줍시다.</td>\n",
       "      <td>언론의 존재 이유가 뭔가요. ?\\n1번도 정권 견재.감시\\n2번도 정권 견제.감시\\...</td>\n",
       "    </tr>\n",
       "    <tr>\n",
       "      <th>162941</th>\n",
       "      <td>201381</td>\n",
       "      <td>2018-04-16</td>\n",
       "      <td>2018-05-16</td>\n",
       "      <td>0</td>\n",
       "      <td>12</td>\n",
       "      <td>정치개혁</td>\n",
       "      <td>티비 조선을 지지한다!!!!</td>\n",
       "      <td>오래만에 제대로 사실을 보도하는 티비 조선! 앞으로도 양심적으로 보도 해주세요. 나...</td>\n",
       "    </tr>\n",
       "  </tbody>\n",
       "</table>\n",
       "</div>"
      ],
      "text/plain": [
       "        article_id      start        end  answered  votes category  \\\n",
       "163514      202168 2018-04-16 2018-05-16         0    188       미래   \n",
       "168833      209243 2018-04-22 2018-05-22         0     16     정치개혁   \n",
       "162941      201381 2018-04-16 2018-05-16         0     12     정치개혁   \n",
       "\n",
       "                                                    title  \\\n",
       "163514  티비 조선 종편 허가 취소 요청 // 한 곳으로 모아야 힘이됩니다. -->> htt...   \n",
       "168833                                     티비 조선을 지켜 줍시다.   \n",
       "162941                                    티비 조선을 지지한다!!!!   \n",
       "\n",
       "                                                  content  \n",
       "163514  티비 조선 종편 허가 취소 요청 // 한 곳으로 모아야 힘이됩니다.  현재 10만명...  \n",
       "168833  언론의 존재 이유가 뭔가요. ?\\n1번도 정권 견재.감시\\n2번도 정권 견제.감시\\...  \n",
       "162941  오래만에 제대로 사실을 보도하는 티비 조선! 앞으로도 양심적으로 보도 해주세요. 나...  "
      ]
     },
     "execution_count": 37,
     "metadata": {},
     "output_type": "execute_result"
    }
   ],
   "source": [
    "# 정규표현식 사용을 위해 import\n",
    "import re\n",
    "p = r'.*(조선).*'\n",
    "care = df[df['title'].str.match(p) |\n",
    "           df['content'].str.match(p, flags=re.MULTILINE)]\n",
    "\n",
    "print(care.shape)\n",
    "care.sort_values(by=\"votes\",ascending=False)"
   ]
  },
  {
   "cell_type": "markdown",
   "metadata": {
    "colab_type": "text",
    "id": "RGVoPdpeL01I"
   },
   "source": [
    "## 위 분석 외에 각자 해보고 싶은 분석을 해보세요."
   ]
  },
  {
   "cell_type": "code",
   "execution_count": 0,
   "metadata": {
    "colab": {
     "autoexec": {
      "startup": false,
      "wait_interval": 0
     }
    },
    "colab_type": "code",
    "id": "JhK9tNqqL01J"
   },
   "outputs": [],
   "source": []
  },
  {
   "cell_type": "markdown",
   "metadata": {
    "colab_type": "text",
    "id": "qX89APN_L01K"
   },
   "source": [
    "# 시각화\n",
    "참고 : http://plotnine.readthedocs.io/en/stable/\n",
    "[has2k1/plotnine-examples: Jupyter Notebooks that are part of the plotnine documentation](https://github.com/has2k1/plotnine-examples)\n",
    "\n",
    "#### 한글폰트 사용하기\n",
    "* 한글이 깨져보이는 것을 해결하기 위해 한글폰트를 사용해야 한다.\n",
    "* 여기에서는 나눔바른고딕을 사용하도록 한다. \n",
    "    * 이때 폰트가 로컬 컴퓨터에 설치되어 있어야한다. \n",
    "    * 나눔고딕은 무료로 사용할 수 있는 폰트다. \n",
    "    * 참고 : [네이버 나눔글꼴 라이선스](https://help.naver.com/support/contents/contents.nhn?serviceNo=1074&categoryNo=3497)\n",
    "* 한글을 사용하기 위해서는 ggplot에서 theme에 폰트를 지정해 주면된다.\n",
    "* 아래의 문서를 참고하면 **element_text**와 관련된 옵션을 볼 수 있다.\n",
    "* 참고 : [plotnine.themes.element_text — plotnine 0.3.0 documentation](http://plotnine.readthedocs.io/en/stable/generated/plotnine.themes.element_text.html)"
   ]
  },
  {
   "cell_type": "code",
   "execution_count": 0,
   "metadata": {
    "colab": {
     "autoexec": {
      "startup": false,
      "wait_interval": 0
     }
    },
    "colab_type": "code",
    "id": "UvEw44-wL01L"
   },
   "outputs": [],
   "source": [
    "from plotnine import *\n",
    "\n",
    "(ggplot(df)\n",
    " + aes('category')\n",
    " + geom_bar(fill='green')\n",
    " + theme(text=element_text(family='NanumBarunGothic'),\n",
    "        axis_text_x=element_text(rotation=60))\n",
    ")"
   ]
  }
 ],
 "metadata": {
  "colab": {
   "default_view": {},
   "name": "petition-pandas-question.ipynb",
   "provenance": [],
   "version": "0.3.2",
   "views": {}
  },
  "kernelspec": {
   "display_name": "Python 3",
   "language": "python",
   "name": "python3"
  },
  "language_info": {
   "codemirror_mode": {
    "name": "ipython",
    "version": 3
   },
   "file_extension": ".py",
   "mimetype": "text/x-python",
   "name": "python",
   "nbconvert_exporter": "python",
   "pygments_lexer": "ipython3",
   "version": "3.6.5"
  }
 },
 "nbformat": 4,
 "nbformat_minor": 1
}
