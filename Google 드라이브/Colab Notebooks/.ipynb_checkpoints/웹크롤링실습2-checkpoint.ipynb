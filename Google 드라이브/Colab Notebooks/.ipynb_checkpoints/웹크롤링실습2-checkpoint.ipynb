{
 "cells": [
  {
   "cell_type": "code",
   "execution_count": 3,
   "metadata": {
    "colab": {
     "autoexec": {
      "startup": false,
      "wait_interval": 0
     },
     "base_uri": "https://localhost:8080/",
     "height": 36
    },
    "colab_type": "code",
    "executionInfo": {
     "elapsed": 2522,
     "status": "ok",
     "timestamp": 1531966387568,
     "user": {
      "displayName": "JiEun Kim",
      "photoUrl": "https://lh3.googleusercontent.com/a/default-user=s128",
      "userId": "110189189358304424839"
     },
     "user_tz": -540
    },
    "id": "5AKk9YTST7aa",
    "outputId": "fd8dce69-53e0-4648-a417-59eda9401709"
   },
   "outputs": [
    {
     "name": "stdout",
     "output_type": "stream",
     "text": [
      "Requirement already satisfied: beautifulsoup4 in /usr/local/lib/python3.6/dist-packages (4.6.0)\r\n"
     ]
    }
   ],
   "source": [
    "!pip install beautifulsoup4"
   ]
  },
  {
   "cell_type": "code",
   "execution_count": 0,
   "metadata": {
    "colab": {
     "autoexec": {
      "startup": false,
      "wait_interval": 0
     }
    },
    "colab_type": "code",
    "id": "B8nIbYMTihby"
   },
   "outputs": [],
   "source": [
    "from urllib import request\n",
    "from bs4 import BeautifulSoup\n",
    "\n",
    "url = \"http://www.yes24.com/searchcorner/Search?keywordAd=&keyword=&domain=BOOK&qdomain=%B1%B9%B3%BB%B5%B5%BC%AD&query=%C6%C4%C0%CC%BD%E3\"\n",
    "with request.urlopen(url) as f:\n",
    "  html = f.read().decode('euc-kr')"
   ]
  },
  {
   "cell_type": "code",
   "execution_count": 25,
   "metadata": {
    "colab": {
     "autoexec": {
      "startup": false,
      "wait_interval": 0
     },
     "base_uri": "https://localhost:8080/",
     "height": 75
    },
    "colab_type": "code",
    "executionInfo": {
     "elapsed": 1037,
     "status": "ok",
     "timestamp": 1531971146621,
     "user": {
      "displayName": "JiEun Kim",
      "photoUrl": "https://lh3.googleusercontent.com/a/default-user=s128",
      "userId": "110189189358304424839"
     },
     "user_tz": -540
    },
    "id": "gZFvjGLORmdm",
    "outputId": "36d38dc1-87d2-4f2d-e3cf-6bef4fd74c6e"
   },
   "outputs": [
    {
     "name": "stdout",
     "output_type": "stream",
     "text": [
      "['Do it! 점프 투 파이썬', '모두의 파이썬', '밑바닥부터 시작하는 딥러닝 ', '파이썬을 이용한 머신러닝, 딥러닝 실전 개발 입문', '파이썬과 케라스를 이용한 딥러닝/강화학습 주식투자', '파이썬 라이브러리를 활용한 머신러닝 ', '파이썬으로 데이터 주무르기', '모두의 알고리즘 with 파이썬', '파이썬 자연어 처리의 이론과 실제', '파이썬 GUI 프로그래밍 쿡북 2/e', '파이썬을 활용한 금융공학 레시피', '처음 시작하는 파이썬', 'Hello Coding 한입에 쏙 파이썬', '파이썬을 이용한 웹 크롤링과 스크레이핑', '파이썬으로 배우는 알고리즘 트레이딩', '파이썬 라이브러리를 활용한 데이터 분석', '한 권으로 배우는 파이썬 기초 & 알고리즘 사고법', '파이썬과 케라스로 배우는 강화학습', '초보자를 위한 파이썬 200제', '파이썬으로 만드는 암호화폐 자동 거래 시스템']\n",
      "[16920, 10800, 21600, 27000, 22500, 27000, 24750, 14400, 31500, 31500, 25200, 27000, 13500, 27000, 36000, 29700, 27000, 24300, 18000, 22500]\n"
     ]
    }
   ],
   "source": [
    "bs = BeautifulSoup(html, 'html5lib')\n",
    "title_elements = bs.select('p.goods_name a strong')\n",
    "# title = [e.text for e in title_element]\n",
    "for i,title in enumerate(title_elements):\n",
    "  title_elements[i] = title.text\n",
    "print(title_elements)\n",
    "\n",
    "price_elements = bs.select('p.goods_price strong')\n",
    "prices = [int(e.text[:-1].replace(\",\",\"\")) for e in price_elements]\n",
    "# [int(e.text[:-1].replace(\",\",\"\")) for e in price_elements if p!='YES24 새상품 :']\n",
    "print(prices)\n",
    "\n",
    "books = pd.DataFrame(\n",
    "{'title' : title_elements, 'price' : prices, 'columns=['title','price']')"
   ]
  },
  {
   "cell_type": "code",
   "execution_count": 0,
   "metadata": {
    "colab": {
     "autoexec": {
      "startup": false,
      "wait_interval": 0
     }
    },
    "colab_type": "code",
    "id": "f9Ihs-kHSGE6"
   },
   "outputs": [],
   "source": []
  }
 ],
 "metadata": {
  "colab": {
   "collapsed_sections": [],
   "default_view": {},
   "name": "웹크롤링실습2.ipynb",
   "provenance": [],
   "version": "0.3.2",
   "views": {}
  },
  "kernelspec": {
   "display_name": "Python 3",
   "language": "python",
   "name": "python3"
  },
  "language_info": {
   "codemirror_mode": {
    "name": "ipython",
    "version": 3
   },
   "file_extension": ".py",
   "mimetype": "text/x-python",
   "name": "python",
   "nbconvert_exporter": "python",
   "pygments_lexer": "ipython3",
   "version": "3.6.5"
  }
 },
 "nbformat": 4,
 "nbformat_minor": 1
}
